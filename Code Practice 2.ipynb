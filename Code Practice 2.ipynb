{
 "cells": [
  {
   "cell_type": "markdown",
   "metadata": {},
   "source": [
    "York Wang\n",
    "\n",
    "02/14/2018\n",
    "\n",
    "Data Bootcamp\n",
    "\n",
    "Prof. Waugh"
   ]
  },
  {
   "cell_type": "markdown",
   "metadata": {},
   "source": [
    "# Code Practice 2"
   ]
  },
  {
   "cell_type": "markdown",
   "metadata": {},
   "source": [
    "Review. Does this code run without error? If so, what does it produce? If not, explain why.\n",
    "x = [1, 2, 3] y = ’bootcamp’ z=x+y\n"
   ]
  },
  {
   "cell_type": "code",
   "execution_count": 12,
   "metadata": {
    "collapsed": true
   },
   "outputs": [],
   "source": [
    "# This code returns an error because it tries t add a string to a list, which it cannot do."
   ]
  },
  {
   "cell_type": "markdown",
   "metadata": {},
   "source": [
    "Review. For the same x and y as the previous question: What function tells us what type they are? What function tells us how many elements they contain?\n"
   ]
  },
  {
   "cell_type": "code",
   "execution_count": 13,
   "metadata": {
    "collapsed": true
   },
   "outputs": [],
   "source": [
    "# The \"type()\" funciton tells us what type they are. The \"length()\" function tells us how many elements they contain."
   ]
  },
  {
   "cell_type": "markdown",
   "metadata": {},
   "source": [
    "What type is each expression? How can you tell?\n",
    "   2\n",
    "   ’2’\n",
    "   2.0\n",
    "   \"2.0\"\n",
    "   2>1\n",
    "   ’Itamar’ > ’Chase’\n",
    "   [1, 2]\n",
    "   (1, 2)\n",
    "   {1: ’one’, 2: ’two’}"
   ]
  },
  {
   "cell_type": "code",
   "execution_count": 16,
   "metadata": {},
   "outputs": [
    {
     "data": {
      "text/plain": [
       "{1: 'one', 2: 'two'}"
      ]
     },
     "execution_count": 16,
     "metadata": {},
     "output_type": "execute_result"
    }
   ],
   "source": [
    "2  # This is an integer. It's not a string because there are no quotation marks, and it isn't a float because there is no decimal point.\n",
    "'2' # This is a string. The quotation marks make it a string.\n",
    "2.0 # This is a float. It's not a string, but there is a decimal point so it is a float.\n",
    "\"2.0\" # This is a string. THe quotation marks indicate that it is a string.\n",
    "2>1 # This is a boolean. It compares the values of two inputs.\n",
    "'Itamar' > 'Chase' # This is a boolean. It compares the value of two inputs which, in this case, is the unicode number of each character.\n",
    "[1,2] # This is a list. The brackets indicate that it is a list.\n",
    "(1,2) # This is a tuple. The parentheses indicate that it is a tuple.\n",
    "{1: 'one', 2: 'two'} # This is a dictionary. The format (curly brackets + colons) indicate that it is a dictionary."
   ]
  },
  {
   "cell_type": "markdown",
   "metadata": {},
   "source": [
    "What value does each of these comparisons have?\n",
    "1>=0\n",
    "1 >= 1\n",
    "1>1\n",
    "1==1\n",
    "1 == 1.0\n",
    "’Spencer’ == \"Spencer\" 2**3 > 3**2\n",
    "1 >= 0 or 1 <= 2\n",
    "1 >= 0 and 1 <= 2"
   ]
  },
  {
   "cell_type": "code",
   "execution_count": 27,
   "metadata": {},
   "outputs": [
    {
     "data": {
      "text/plain": [
       "True"
      ]
     },
     "execution_count": 27,
     "metadata": {},
     "output_type": "execute_result"
    }
   ],
   "source": [
    "1 >= 0 # True\n",
    "1 >= 1 # True\n",
    "1 > 1 # False\n",
    "1 == 1 # True\n",
    "1 == 1.0 # True\n",
    "'Spencer' == \"Spencer\" # True\n",
    "2**3 > 3**2 # False\n",
    "1 >= 0 or 1 <= 2 # True\n",
    "1 >= 0 and 1 <= 2 # True"
   ]
  },
  {
   "cell_type": "markdown",
   "metadata": {},
   "source": [
    "Does this code run without error? If so, what does it produce? If not, how would you fix it?\n",
    "   if 2>1\n",
    "      print(’Yes, 2 is still greater than 1’)"
   ]
  },
  {
   "cell_type": "code",
   "execution_count": 29,
   "metadata": {
    "collapsed": true
   },
   "outputs": [],
   "source": [
    "# Yes, this code runs without error. It produces:\n",
    "\n",
    "# Yes, 2 is still greater than 1"
   ]
  },
  {
   "cell_type": "markdown",
   "metadata": {},
   "source": [
    "What is the result of running this code? Why?\n",
    "   if True:\n",
    "       print(’on the one hand’)\n",
    "   else:\n",
    "       print(’but on the other hand’)\n",
    "What happens if we replace True with False in the first line? What happens if we insert the word not after if in the first line?"
   ]
  },
  {
   "cell_type": "code",
   "execution_count": 31,
   "metadata": {
    "collapsed": true
   },
   "outputs": [],
   "source": [
    "# I think that it yields an error because it does not include what it is checking to be true or false.\n",
    "\n",
    "# If you replace \"True\" with \"False\" in the first line, it would print the else statement for true conditions and the if statement for false conditions.\n",
    "\n",
    "# Inserting the word \"not\" after \"if\" in the first line would yield the same result as replacing \"True\" with \"False\"."
   ]
  },
  {
   "cell_type": "markdown",
   "metadata": {},
   "source": [
    "What is the result of running this code?\n",
    "   cond = True\n",
    "   if cond:\n",
    "       x = \"Chase\"\n",
    "   else:\n",
    "       x = \"Dave\"\n",
    "   print(x)"
   ]
  },
  {
   "cell_type": "code",
   "execution_count": 34,
   "metadata": {
    "collapsed": true
   },
   "outputs": [],
   "source": [
    "# It prints \"Chase\""
   ]
  },
  {
   "cell_type": "markdown",
   "metadata": {},
   "source": [
    "Suppose we have two lists, x = [1, 2, 3, 4] and y = [’x’, ’y’, ’z’]. Adapt the code below to determine which has more elements:\n",
    "   if <insert expression>:\n",
    "       print(’x has more’)\n",
    "   else:\n",
    "       print(\"y has at least as many\")"
   ]
  },
  {
   "cell_type": "code",
   "execution_count": 37,
   "metadata": {},
   "outputs": [
    {
     "name": "stdout",
     "output_type": "stream",
     "text": [
      "x has more\n"
     ]
    }
   ],
   "source": [
    "x = [1, 2, 3, 4];\n",
    "y = ['a','b','c'];\n",
    "\n",
    "if len(x) > len(y):\n",
    "    print('x has more')\n",
    "else:\n",
    "    print('y has at least as many')"
   ]
  },
  {
   "cell_type": "markdown",
   "metadata": {},
   "source": [
    "Explain in words what slicing does."
   ]
  },
  {
   "cell_type": "code",
   "execution_count": 38,
   "metadata": {
    "collapsed": true
   },
   "outputs": [],
   "source": [
    "# Slicing is selecting an item from a list or string, allowing you to refer to specific parts of the string or list."
   ]
  },
  {
   "cell_type": "markdown",
   "metadata": {},
   "source": [
    "How would you extract (“slice”) the first element (the integer 1) from the list x below? The last element? All but the last element?\n",
    "   x = [1, 2, 3, 4, 5]"
   ]
  },
  {
   "cell_type": "code",
   "execution_count": 39,
   "metadata": {
    "collapsed": true
   },
   "outputs": [],
   "source": [
    "# First element: x[0]\n",
    "# Last element: x[4]\n",
    "# All but the last element: x[0:3]"
   ]
  },
  {
   "cell_type": "markdown",
   "metadata": {},
   "source": [
    "Use slicing to extract each word from\n",
    "sentence = ’This is a sentence; please slice it.’ Suggestion: Number every character in sentence by hand.\n"
   ]
  },
  {
   "cell_type": "code",
   "execution_count": 45,
   "metadata": {},
   "outputs": [
    {
     "name": "stdout",
     "output_type": "stream",
     "text": [
      "Here is each word from the sentence:\n",
      "['This', 'is', 'a', 'sentence;', 'please', 'slice', 'it.']\n"
     ]
    }
   ],
   "source": [
    "sentence = \"This is a sentence; please slice it.\";\n",
    "sentence2 = sentence.split()\n",
    "print(\"Here is each word from the sentence:\")\n",
    "print(sentence2)"
   ]
  },
  {
   "cell_type": "markdown",
   "metadata": {},
   "source": [
    "Consider the list\n",
    "    x = [1, 2, \"a\", ’b’, \"fast\", ’slow’, 3, \"Raghu\", ’Liuren’, 10]\n",
    "a. How would you slice out the first item? The last item?\n",
    "b. How would you slice out the items from ’b’ to 3 inclusive?"
   ]
  },
  {
   "cell_type": "code",
   "execution_count": 53,
   "metadata": {
    "collapsed": true
   },
   "outputs": [],
   "source": [
    "x = [1, 2, \"a\", \"b\", \"fast\", \"slow\", 3, \"Raghu\", \"Liuren\", 10]\n",
    "\n",
    "# I would slice out the first item with x[0]\n",
    "# I would slice out the last item with x[(len(x))-1]\n",
    "\n",
    "# I would slice out items from \"b\" to 3 with x[3:6]"
   ]
  },
  {
   "cell_type": "markdown",
   "metadata": {},
   "source": [
    "Using the same list x, write a loop that prints every element on a new line."
   ]
  },
  {
   "cell_type": "code",
   "execution_count": 59,
   "metadata": {},
   "outputs": [
    {
     "name": "stdout",
     "output_type": "stream",
     "text": [
      "1\n",
      "2\n",
      "a\n",
      "b\n",
      "fast\n",
      "slow\n",
      "3\n",
      "Raghu\n",
      "Liuren\n"
     ]
    }
   ],
   "source": [
    "x = [1, 2, \"a\", \"b\", \"fast\", \"slow\", 3, \"Raghu\", \"Liuren\", 10]\n",
    "\n",
    "counter = 0;\n",
    "\n",
    "while counter < 9:\n",
    "    print(x[counter]);\n",
    "    counter = counter + 1;"
   ]
  },
  {
   "cell_type": "markdown",
   "metadata": {},
   "source": [
    "Challenging. Using the same list x, write a loop that prints every element of type str."
   ]
  },
  {
   "cell_type": "code",
   "execution_count": 4,
   "metadata": {},
   "outputs": [
    {
     "name": "stdout",
     "output_type": "stream",
     "text": [
      "a\n",
      "b\n",
      "fast\n",
      "slow\n",
      "Raghu\n",
      "Liuren\n"
     ]
    }
   ],
   "source": [
    "x = [1, 2, \"a\", \"b\", \"fast\", \"slow\", 3, \"Raghu\", \"Liuren\", 10]\n",
    "\n",
    "counter = 0;\n",
    "\n",
    "while counter < 9:\n",
    "    if type(x[counter]) == str:\n",
    "        print(x[counter]);\n",
    "    counter = counter + 1;"
   ]
  },
  {
   "cell_type": "markdown",
   "metadata": {},
   "source": [
    "Use the help function in Jupyter to find out what the range function does. How would you describe range(3,12,2)? Verify by converting to a list with list(range(3,12,2)).\n"
   ]
  },
  {
   "cell_type": "code",
   "execution_count": 10,
   "metadata": {},
   "outputs": [
    {
     "name": "stdout",
     "output_type": "stream",
     "text": [
      "[3, 5, 7, 9, 11]\n"
     ]
    }
   ],
   "source": [
    "# The range function defines a range of integers and produces them.\n",
    "# range(3,12,2) yields the integers: 3, 5, 7, 9, 11\n",
    "\n",
    "x = range(3,12,2);\n",
    "\n",
    "print(list(x));"
   ]
  },
  {
   "cell_type": "markdown",
   "metadata": {},
   "source": [
    "Challenging. Write a loop that sums the integers from zero to thirty that are multiples of three: 3, 6, etc."
   ]
  },
  {
   "cell_type": "code",
   "execution_count": 15,
   "metadata": {},
   "outputs": [
    {
     "name": "stdout",
     "output_type": "stream",
     "text": [
      "165\n"
     ]
    }
   ],
   "source": [
    "# ASSUMING WE INCLUDE 30 IN THE LIST OF INTEGERS\n",
    "\n",
    "count = 0;\n",
    "position = 0;\n",
    "x = list(range(3,33,3));\n",
    "y = len(x);\n",
    "\n",
    "while position < y:\n",
    "    count = count + x[position];\n",
    "    position = position + 1;\n",
    "    \n",
    "print(count);"
   ]
  },
  {
   "cell_type": "markdown",
   "metadata": {},
   "source": [
    "Define a function pocket_change() that takes four integers as inputs (numbers of pennies, nickels, dimes, and quarters in your pocket) and returns a floating point number (their dollar value). Run your program with the input (1, 2, 3, 4). Bonus (optional): Report the value with a dollar sign."
   ]
  },
  {
   "cell_type": "code",
   "execution_count": 21,
   "metadata": {},
   "outputs": [
    {
     "name": "stdout",
     "output_type": "stream",
     "text": [
      "You have $ 1.4100000000000001 .\n"
     ]
    }
   ],
   "source": [
    "def pocket_change(a,b,c,d):\n",
    "    total = 0;\n",
    "    \n",
    "    if type(a) == int:\n",
    "        pennies = a*0.01;\n",
    "        total = total + pennies;\n",
    "        \n",
    "    if type(b) == int:\n",
    "        nickels = b*0.05;\n",
    "        total = total + nickels;\n",
    "        \n",
    "    if type(c) == int:\n",
    "        dimes = c*0.1;\n",
    "        total = total + dimes;\n",
    "        \n",
    "    if type(d) == int:\n",
    "        quarters = d*0.25;\n",
    "        total = total + quarters;\n",
    "        \n",
    "    total = float(total);\n",
    "    \n",
    "    print(\"You have $\", total, \".\");\n",
    "    \n",
    "pocket_change(1,2,3,4);"
   ]
  },
  {
   "cell_type": "markdown",
   "metadata": {},
   "source": [
    "Challenging. Write a function notsix() that takes a list of integers and returns a (shorter) list of only those that do not begin with a 6. Test it on the list [1234, 6783, 6, 4321, 9876]. Hints: You can create a blank list with x = []. You can append item to it with x.append(item).\n"
   ]
  },
  {
   "cell_type": "code",
   "execution_count": 52,
   "metadata": {},
   "outputs": [
    {
     "name": "stdout",
     "output_type": "stream",
     "text": [
      "[6783, 6]\n"
     ]
    }
   ],
   "source": [
    "def notsix(a, b, c, d, e):\n",
    "    \n",
    "    y = [];\n",
    "\n",
    "    for number in x:\n",
    "        num_string = str(number);\n",
    "        num_list = list(num_string);\n",
    "\n",
    "        if num_list[0] == \"6\":\n",
    "            y.append(number);\n",
    "\n",
    "    print(y);\n",
    "\n",
    "notsix(1234,6783,6,4321,9876);"
   ]
  },
  {
   "cell_type": "markdown",
   "metadata": {},
   "source": [
    "Challenging. Explain what this code does: old_list = [1234, 6783, 6, 4321, 9876]\n",
    "   new_list = [x for x in old_list if str(x)[0] != \"6\"]"
   ]
  },
  {
   "cell_type": "code",
   "execution_count": 53,
   "metadata": {
    "collapsed": true
   },
   "outputs": [],
   "source": [
    "# This code creates a new list with integers that do not start with 6."
   ]
  },
  {
   "cell_type": "markdown",
   "metadata": {},
   "source": [
    "Consider the Python object\n",
    "   z = {1: ’one’, 2: ’two’, 3: ’three’}\n",
    "a. What kind of object is z? What is its length?\n",
    "b. Which components are keys? Which are values?\n",
    "c. How would I get the value associated with the key 2?\n",
    "d. Use Jupyter’s help facilities to figure out what z.keys() does. Ditto z.values(). Try them to verify.\n",
    "e. What does list(z.keys()) do?\n",
    "f. What does list(z.values()) do?\n",
    "g. What does list(z) do?\n"
   ]
  },
  {
   "cell_type": "code",
   "execution_count": 68,
   "metadata": {},
   "outputs": [],
   "source": [
    "# This is a dictionary. Its length is 3.\n",
    "# The keys are the integers (1,2,3). The values are their string word form.\n",
    "# You would get the value associated with the key 2 by entering:\n",
    "\n",
    "# print(z[2]);\n",
    "\n",
    "# z.keys() is a reference to the dictionary's keys.\n",
    "# z.values() is a refernce to the dictionary's values.\n",
    "\n",
    "# list(z.keys()) returns a list of the dictionary's keys.\n",
    "# list(z.values()) returns a list of the dictionary's values."
   ]
  },
  {
   "cell_type": "markdown",
   "metadata": {},
   "source": [
    "Approximately how long did this assignment take you? Answer this by creating a .csv file and entering the time (in minutes) and posting it to your GitHub my_first_repository titled time_for_practice2.csv"
   ]
  }
 ],
 "metadata": {
  "kernelspec": {
   "display_name": "Python 3",
   "language": "python",
   "name": "python3"
  },
  "language_info": {
   "codemirror_mode": {
    "name": "ipython",
    "version": 3
   },
   "file_extension": ".py",
   "mimetype": "text/x-python",
   "name": "python",
   "nbconvert_exporter": "python",
   "pygments_lexer": "ipython3",
   "version": "3.6.3"
  }
 },
 "nbformat": 4,
 "nbformat_minor": 2
}
