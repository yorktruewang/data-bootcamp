{
 "cells": [
  {
   "cell_type": "markdown",
   "metadata": {},
   "source": [
    "# Data Proposal\n",
    "\n",
    "So I've settled on a project regarding the connection between agriculture commodity prices and their futures trading volumes. I will also try to figure out whether these are somehow tied to global data.\n",
    "\n",
    "I think the data that I need for this project is relatively straightforward: price data, trading volume data, and some nominal measure of global temperature.\n",
    "\n",
    "Since my project will essentailly compare the market's reaction to changing prices, I think I'll just have to focus on finding market data."
   ]
  },
  {
   "cell_type": "code",
   "execution_count": 1,
   "metadata": {},
   "outputs": [],
   "source": [
    "import pandas as pd "
   ]
  },
  {
   "cell_type": "markdown",
   "metadata": {},
   "source": [
    "## Finding global temperatures\n",
    "\n",
    "This should be easier, I think. I've found this [cool website](https://datahub.io) that has a couple datasets. I think they find interesting datasets and clean it up a little bit for other people to use.\n",
    "\n",
    "There's a couple temperature-related datasets, but I think I'll use [this one](https://datahub.io/core/global-temp). It compares current temperatures to a historical benchmark, which sounds useful when seeing how temperatures have changed over time."
   ]
  },
  {
   "cell_type": "code",
   "execution_count": 2,
   "metadata": {},
   "outputs": [
    {
     "data": {
      "text/html": [
       "<div>\n",
       "<style scoped>\n",
       "    .dataframe tbody tr th:only-of-type {\n",
       "        vertical-align: middle;\n",
       "    }\n",
       "\n",
       "    .dataframe tbody tr th {\n",
       "        vertical-align: top;\n",
       "    }\n",
       "\n",
       "    .dataframe thead th {\n",
       "        text-align: right;\n",
       "    }\n",
       "</style>\n",
       "<table border=\"1\" class=\"dataframe\">\n",
       "  <thead>\n",
       "    <tr style=\"text-align: right;\">\n",
       "      <th></th>\n",
       "      <th>Source</th>\n",
       "      <th>Date</th>\n",
       "      <th>Mean</th>\n",
       "    </tr>\n",
       "  </thead>\n",
       "  <tbody>\n",
       "    <tr>\n",
       "      <th>0</th>\n",
       "      <td>GCAG</td>\n",
       "      <td>2016-12-15</td>\n",
       "      <td>0.7895</td>\n",
       "    </tr>\n",
       "    <tr>\n",
       "      <th>1</th>\n",
       "      <td>GISTEMP</td>\n",
       "      <td>2016-12-15</td>\n",
       "      <td>0.8100</td>\n",
       "    </tr>\n",
       "    <tr>\n",
       "      <th>2</th>\n",
       "      <td>GCAG</td>\n",
       "      <td>2016-11-15</td>\n",
       "      <td>0.7504</td>\n",
       "    </tr>\n",
       "    <tr>\n",
       "      <th>3</th>\n",
       "      <td>GISTEMP</td>\n",
       "      <td>2016-11-15</td>\n",
       "      <td>0.9300</td>\n",
       "    </tr>\n",
       "    <tr>\n",
       "      <th>4</th>\n",
       "      <td>GCAG</td>\n",
       "      <td>2016-10-15</td>\n",
       "      <td>0.7292</td>\n",
       "    </tr>\n",
       "  </tbody>\n",
       "</table>\n",
       "</div>"
      ],
      "text/plain": [
       "    Source        Date    Mean\n",
       "0     GCAG  2016-12-15  0.7895\n",
       "1  GISTEMP  2016-12-15  0.8100\n",
       "2     GCAG  2016-11-15  0.7504\n",
       "3  GISTEMP  2016-11-15  0.9300\n",
       "4     GCAG  2016-10-15  0.7292"
      ]
     },
     "execution_count": 2,
     "metadata": {},
     "output_type": "execute_result"
    }
   ],
   "source": [
    "# gonna just try to clean up this data i guess\n",
    "\n",
    "url = \"https://pkgstore.datahub.io/core/global-temp/monthly_csv/data/5c846179d4938961e3f7515a26bf9976/monthly_csv.csv\"\n",
    "raw_temp = pd.read_csv(url)\n",
    "raw_temp.head()"
   ]
  },
  {
   "cell_type": "code",
   "execution_count": 3,
   "metadata": {},
   "outputs": [],
   "source": [
    "# just need to clean this up a little bit — I'll probably explain what each step is in the final project\n",
    "\n",
    "grouped_data = raw_temp.groupby(\"Source\")\n",
    "temp = grouped_data.get_group(\"GISTEMP\")\n",
    "temp = temp.drop(temp.index[144:])\n",
    "temp = temp.reindex(index = temp.index[::-1])\n",
    "temp = temp.drop(\"Source\", axis = 1)\n",
    "temp = temp.rename(columns = {\"Mean\": \"MeanTemperatureDeviation\"})\n",
    "df = temp\n",
    "df = df.reset_index()\n",
    "df = df.drop(\"index\", axis = 1)\n",
    "df = df.reset_index()"
   ]
  },
  {
   "cell_type": "markdown",
   "metadata": {},
   "source": [
    "## Futures trading volume data\n",
    "\n",
    "The only free public information I could find on futures trading volume is from _[Intercontinental Exchange](https://www.theice.com/marketdata/reports/8)_. It's a pain in the ass, but I pulled the data by hand and cleaned it. However, the data only goes back to 2005, and thus that's the timeframe of data I'll be using."
   ]
  },
  {
   "cell_type": "code",
   "execution_count": 4,
   "metadata": {},
   "outputs": [],
   "source": [
    "# reading in the data and cutting it down to the right size\n",
    "url2 = \"https://raw.githubusercontent.com/yorktruewang/data-bootcamp/master/Final%20Project/Commodity%20Futures%20Volumes.csv\"\n",
    "f_v = pd.read_csv(url2)\n",
    "f_v.head()\n",
    "f_v = f_v.rename(columns = {\"Unnamed: 0\": \"Date\"})\n",
    "f_v.tail()\n",
    "f_v = f_v.drop(f_v.index[144:])\n",
    "f_v = f_v.drop(axis = 1, columns = \"PULP\")"
   ]
  },
  {
   "cell_type": "code",
   "execution_count": 5,
   "metadata": {},
   "outputs": [],
   "source": [
    "# let's make a big giant dataframe for the important data\n",
    "coffee = f_v[\"COFFEE\"]\n",
    "df[\"coffee\"] = coffee\n",
    "\n",
    "sugar = f_v[\"SUGAR\"]\n",
    "df[\"sugar\"] = sugar\n",
    "\n",
    "cotton = f_v[\"COTTON\"]\n",
    "df[\"cotton\"] = cotton\n",
    "\n",
    "fcoj = f_v[\"FCOJ\"]\n",
    "df[\"fcoj\"] = fcoj\n",
    "\n",
    "cocoa = f_v[\"COCOA\"]\n",
    "df[\"cocoa\"] = cocoa\n",
    "\n",
    "mg = f_v[\"METALS & GRAINS\"]\n",
    "df[\"grains proxy\"] = mg"
   ]
  },
  {
   "cell_type": "markdown",
   "metadata": {},
   "source": [
    "## Commodity Prices\n",
    "\n",
    "This one was much easier to find!\n",
    "\n",
    "I feel like since the clients of exchanges are global and since agriculture is a global industry, we can use global data. As such, I've found global prices for agriculture commodities, as opposed to US-focused or something.\n",
    "\n",
    "The data is from the IMF – cleaned up and found on FRED. The csv files all have the same structure (thank god) and I've uploaded the data to my github"
   ]
  },
  {
   "cell_type": "code",
   "execution_count": 6,
   "metadata": {},
   "outputs": [],
   "source": [
    "WHEAT =\"https://raw.githubusercontent.com/yorktruewang/data-bootcamp/master/Final%20Project/WHEAT%20INDEX.csv\"\n",
    "COCOA = \"https://raw.githubusercontent.com/yorktruewang/data-bootcamp/master/Final%20Project/COCOA%20INDEX.csv\"\n",
    "SUGAR = \"https://raw.githubusercontent.com/yorktruewang/data-bootcamp/master/Final%20Project/SUGAR%20INDEX.csv\"\n",
    "COTTON = \"https://raw.githubusercontent.com/yorktruewang/data-bootcamp/master/Final%20Project/COTTON%20INDEX.csv\"\n",
    "\n",
    "def clean(url, name):\n",
    "    placeholder = pd.read_csv(url)\n",
    "    placeholder.columns = [\"Date\", name]    \n",
    "    placeholder = placeholder.drop(placeholder.index[0:300])    \n",
    "    placeholder = placeholder.drop(placeholder.index[144:449])    \n",
    "    placeholder = placeholder.reset_index()\n",
    "    placeholder = placeholder.drop(\"index\", axis = 1)    \n",
    "    df[name] = placeholder[name]\n",
    "\n",
    "# Manually clean the price indices\n",
    "clean(SUGAR, \"sugarindex\")\n",
    "clean(COTTON, \"cottonindex\")\n",
    "clean(COCOA, \"cocoaindex\")\n",
    "\n",
    "# Manually create new dataframes for each commodity\n",
    "sugardf = pd.DataFrame({\"sugar\":df[\"sugar\"], \"sugarindex\": df[\"sugarindex\"]})\n",
    "cottondf = pd.DataFrame({\"cotton\":df[\"cotton\"], \"cottonindex\": df[\"cottonindex\"]})\n",
    "cocoadf = pd.DataFrame({\"cocoa\":df[\"cocoa\"], \"cocoaindex\": df[\"cocoaindex\"]})"
   ]
  },
  {
   "cell_type": "markdown",
   "metadata": {},
   "source": [
    "Okay so I have the data I need! It seems quite simple, but there's really a couple dimensions for this data: prices and trading volumes. There's no geographic location or anything, which really limits the types of analyses I can do on this topic. Regardless, I think it's quite interesting, and I'd like to look further into it."
   ]
  }
 ],
 "metadata": {
  "kernelspec": {
   "display_name": "Python 3",
   "language": "python",
   "name": "python3"
  },
  "language_info": {
   "codemirror_mode": {
    "name": "ipython",
    "version": 3
   },
   "file_extension": ".py",
   "mimetype": "text/x-python",
   "name": "python",
   "nbconvert_exporter": "python",
   "pygments_lexer": "ipython3",
   "version": "3.6.4"
  }
 },
 "nbformat": 4,
 "nbformat_minor": 2
}
