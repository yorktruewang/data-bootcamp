{
 "cells": [
  {
   "cell_type": "markdown",
   "metadata": {},
   "source": [
    "# The Relationship Between Commodity Prices, Their Futures Trading Volumes, and Average Global Temperature\n",
    "\n",
    "**By York Wang**\n",
    "\n",
    "It is not implausible that the trading volumes of a commodity's futures contracts would be influenced by prior movements in the commodity's price itself. As futures contracts are utilized in hedging, it would make sense for commodity consumers to protect against potential upswings in commodity prices. Although there countless numbers of factors that can influence a commodity's prices and the trading volume of its futures, I wanted to see if there was a direct relationship between the two.\n",
    "\n",
    "Specifically, I will be looking at agricultural commodities like cotton and wheat. In addition to examining the relationship between commodities prices and the trading volumes of their respective futures, I am also looking to see whether the global average temperature has any effect on the trading volumes of commodity futures, as one would expect the risk of climate change to be hedged against through futures contracts — which is why I've limited the commodities I'm looking at to agricultural ones.\n",
    "\n",
    "\n",
    "The data I will be using will consist of:\n",
    "- Monthly average global temperature deviations from the 1951-1980 means\n",
    "- Monthly trading volumes of agricultural commodities futures\n",
    "- Monthly global prices for specified commodities"
   ]
  },
  {
   "cell_type": "code",
   "execution_count": 1,
   "metadata": {},
   "outputs": [],
   "source": [
    "# Packages needed to run \n",
    "\n",
    "import pandas as pd \n",
    "# DataFrame package\n",
    "\n",
    "import matplotlib.pyplot as plt\n",
    "# Plotting our data\n",
    "\n",
    "import statsmodels.formula.api as sm\n",
    "# Used for simple linear regressions\n"
   ]
  },
  {
   "cell_type": "markdown",
   "metadata": {},
   "source": [
    "## I. Importing and Cleaning the Data"
   ]
  },
  {
   "cell_type": "markdown",
   "metadata": {},
   "source": [
    "### Importing and Cleaning Global Temperature Data\n",
    "I am importing global temperature data from Datahub.io, a site where certain datasets are already curated and cleaned up for public use.\n",
    "\n",
    "For this data, I will need to isolate the proper data source and restrict the time frame to match that of my commodities data."
   ]
  },
  {
   "cell_type": "code",
   "execution_count": 2,
   "metadata": {},
   "outputs": [
    {
     "data": {
      "text/html": [
       "<div>\n",
       "<style scoped>\n",
       "    .dataframe tbody tr th:only-of-type {\n",
       "        vertical-align: middle;\n",
       "    }\n",
       "\n",
       "    .dataframe tbody tr th {\n",
       "        vertical-align: top;\n",
       "    }\n",
       "\n",
       "    .dataframe thead th {\n",
       "        text-align: right;\n",
       "    }\n",
       "</style>\n",
       "<table border=\"1\" class=\"dataframe\">\n",
       "  <thead>\n",
       "    <tr style=\"text-align: right;\">\n",
       "      <th></th>\n",
       "      <th>Source</th>\n",
       "      <th>Date</th>\n",
       "      <th>Mean</th>\n",
       "    </tr>\n",
       "  </thead>\n",
       "  <tbody>\n",
       "    <tr>\n",
       "      <th>0</th>\n",
       "      <td>GCAG</td>\n",
       "      <td>2016-12-15</td>\n",
       "      <td>0.7895</td>\n",
       "    </tr>\n",
       "    <tr>\n",
       "      <th>1</th>\n",
       "      <td>GISTEMP</td>\n",
       "      <td>2016-12-15</td>\n",
       "      <td>0.8100</td>\n",
       "    </tr>\n",
       "    <tr>\n",
       "      <th>2</th>\n",
       "      <td>GCAG</td>\n",
       "      <td>2016-11-15</td>\n",
       "      <td>0.7504</td>\n",
       "    </tr>\n",
       "    <tr>\n",
       "      <th>3</th>\n",
       "      <td>GISTEMP</td>\n",
       "      <td>2016-11-15</td>\n",
       "      <td>0.9300</td>\n",
       "    </tr>\n",
       "    <tr>\n",
       "      <th>4</th>\n",
       "      <td>GCAG</td>\n",
       "      <td>2016-10-15</td>\n",
       "      <td>0.7292</td>\n",
       "    </tr>\n",
       "  </tbody>\n",
       "</table>\n",
       "</div>"
      ],
      "text/plain": [
       "    Source        Date    Mean\n",
       "0     GCAG  2016-12-15  0.7895\n",
       "1  GISTEMP  2016-12-15  0.8100\n",
       "2     GCAG  2016-11-15  0.7504\n",
       "3  GISTEMP  2016-11-15  0.9300\n",
       "4     GCAG  2016-10-15  0.7292"
      ]
     },
     "execution_count": 2,
     "metadata": {},
     "output_type": "execute_result"
    }
   ],
   "source": [
    "# importing global temperature data\n",
    "\n",
    "url = \"https://pkgstore.datahub.io/core/global-temp/monthly_csv/data/5c846179d4938961e3f7515a26bf9976/monthly_csv.csv\"\n",
    "raw_temp = pd.read_csv(url)\n",
    "raw_temp.head()"
   ]
  },
  {
   "cell_type": "code",
   "execution_count": 3,
   "metadata": {},
   "outputs": [
    {
     "data": {
      "text/html": [
       "<div>\n",
       "<style scoped>\n",
       "    .dataframe tbody tr th:only-of-type {\n",
       "        vertical-align: middle;\n",
       "    }\n",
       "\n",
       "    .dataframe tbody tr th {\n",
       "        vertical-align: top;\n",
       "    }\n",
       "\n",
       "    .dataframe thead th {\n",
       "        text-align: right;\n",
       "    }\n",
       "</style>\n",
       "<table border=\"1\" class=\"dataframe\">\n",
       "  <thead>\n",
       "    <tr style=\"text-align: right;\">\n",
       "      <th></th>\n",
       "      <th>Date</th>\n",
       "      <th>Mean Temperature Deviation</th>\n",
       "    </tr>\n",
       "  </thead>\n",
       "  <tbody>\n",
       "    <tr>\n",
       "      <th>0</th>\n",
       "      <td>2005-01-15</td>\n",
       "      <td>0.72</td>\n",
       "    </tr>\n",
       "    <tr>\n",
       "      <th>1</th>\n",
       "      <td>2005-02-15</td>\n",
       "      <td>0.58</td>\n",
       "    </tr>\n",
       "    <tr>\n",
       "      <th>2</th>\n",
       "      <td>2005-03-15</td>\n",
       "      <td>0.69</td>\n",
       "    </tr>\n",
       "    <tr>\n",
       "      <th>3</th>\n",
       "      <td>2005-04-15</td>\n",
       "      <td>0.69</td>\n",
       "    </tr>\n",
       "    <tr>\n",
       "      <th>4</th>\n",
       "      <td>2005-05-15</td>\n",
       "      <td>0.65</td>\n",
       "    </tr>\n",
       "  </tbody>\n",
       "</table>\n",
       "</div>"
      ],
      "text/plain": [
       "         Date  Mean Temperature Deviation\n",
       "0  2005-01-15                        0.72\n",
       "1  2005-02-15                        0.58\n",
       "2  2005-03-15                        0.69\n",
       "3  2005-04-15                        0.69\n",
       "4  2005-05-15                        0.65"
      ]
     },
     "execution_count": 3,
     "metadata": {},
     "output_type": "execute_result"
    }
   ],
   "source": [
    "grouped_data = raw_temp.groupby(\"Source\")\n",
    "# There is data from two different sources for each month\n",
    "# We try to utilize only data from \"GISTEMP\", which is a NASA source\n",
    "\n",
    "temp = grouped_data.get_group(\"GISTEMP\")\n",
    "# We create a new dataframe with only \"GISTEMP\" data\n",
    "\n",
    "temp = temp.drop(temp.index[144:])\n",
    "# Since our historical data for futures trading volumes only goes back\n",
    "# to January 2005, we drop all data from before January 2005.\n",
    "\n",
    "temp = temp.reindex(index = temp.index[::-1])\n",
    "# We want to flip the data around so that it's in chronological order.\n",
    "\n",
    "temp = temp.drop(\"Source\", axis = 1)\n",
    "# We no longer need the data source\n",
    "\n",
    "temp = temp.rename(columns = {\"Mean\": \"Mean Temperature Deviation\"})\n",
    "\n",
    "df = temp\n",
    "# We'll use this as our main dataframe\n",
    "\n",
    "df = df.reset_index()\n",
    "# Resetting our index so that it's no longer funky\n",
    "\n",
    "df = df.drop(\"index\", axis = 1)\n",
    "# Dropping the old index\n",
    "\n",
    "df.head()"
   ]
  },
  {
   "cell_type": "markdown",
   "metadata": {},
   "source": [
    "### Importing and Cleaning Futures Trading Volume Data\n",
    "\n",
    "This data is pulled by hand from Intercontinental Exchange. I have cleaned the data up and uploaded it as a CSV to my Github.\n",
    "\n",
    "https://www.theice.com/marketdata/reports/8"
   ]
  },
  {
   "cell_type": "code",
   "execution_count": 4,
   "metadata": {},
   "outputs": [
    {
     "data": {
      "text/html": [
       "<div>\n",
       "<style scoped>\n",
       "    .dataframe tbody tr th:only-of-type {\n",
       "        vertical-align: middle;\n",
       "    }\n",
       "\n",
       "    .dataframe tbody tr th {\n",
       "        vertical-align: top;\n",
       "    }\n",
       "\n",
       "    .dataframe thead th {\n",
       "        text-align: right;\n",
       "    }\n",
       "</style>\n",
       "<table border=\"1\" class=\"dataframe\">\n",
       "  <thead>\n",
       "    <tr style=\"text-align: right;\">\n",
       "      <th></th>\n",
       "      <th>Date</th>\n",
       "      <th>COFFEE</th>\n",
       "      <th>SUGAR</th>\n",
       "      <th>COCOA</th>\n",
       "      <th>COTTON</th>\n",
       "      <th>FCOJ</th>\n",
       "      <th>METALS &amp; GRAINS</th>\n",
       "    </tr>\n",
       "  </thead>\n",
       "  <tbody>\n",
       "    <tr>\n",
       "      <th>139</th>\n",
       "      <td>8/29/16</td>\n",
       "      <td>908304</td>\n",
       "      <td>2013125</td>\n",
       "      <td>987963</td>\n",
       "      <td>538811</td>\n",
       "      <td>47704</td>\n",
       "      <td>30949</td>\n",
       "    </tr>\n",
       "    <tr>\n",
       "      <th>140</th>\n",
       "      <td>9/28/16</td>\n",
       "      <td>600690</td>\n",
       "      <td>3971481</td>\n",
       "      <td>730541</td>\n",
       "      <td>437283</td>\n",
       "      <td>24848</td>\n",
       "      <td>24266</td>\n",
       "    </tr>\n",
       "    <tr>\n",
       "      <th>141</th>\n",
       "      <td>10/29/16</td>\n",
       "      <td>695422</td>\n",
       "      <td>1727505</td>\n",
       "      <td>856408</td>\n",
       "      <td>528534</td>\n",
       "      <td>49991</td>\n",
       "      <td>22660</td>\n",
       "    </tr>\n",
       "    <tr>\n",
       "      <th>142</th>\n",
       "      <td>11/28/16</td>\n",
       "      <td>1092826</td>\n",
       "      <td>1972513</td>\n",
       "      <td>829030</td>\n",
       "      <td>876713</td>\n",
       "      <td>22202</td>\n",
       "      <td>45187</td>\n",
       "    </tr>\n",
       "    <tr>\n",
       "      <th>143</th>\n",
       "      <td>12/29/16</td>\n",
       "      <td>524561</td>\n",
       "      <td>1792050</td>\n",
       "      <td>623505</td>\n",
       "      <td>408670</td>\n",
       "      <td>45915</td>\n",
       "      <td>23016</td>\n",
       "    </tr>\n",
       "  </tbody>\n",
       "</table>\n",
       "</div>"
      ],
      "text/plain": [
       "         Date   COFFEE    SUGAR   COCOA  COTTON   FCOJ  METALS & GRAINS\n",
       "139   8/29/16   908304  2013125  987963  538811  47704            30949\n",
       "140   9/28/16   600690  3971481  730541  437283  24848            24266\n",
       "141  10/29/16   695422  1727505  856408  528534  49991            22660\n",
       "142  11/28/16  1092826  1972513  829030  876713  22202            45187\n",
       "143  12/29/16   524561  1792050  623505  408670  45915            23016"
      ]
     },
     "execution_count": 4,
     "metadata": {},
     "output_type": "execute_result"
    }
   ],
   "source": [
    "url2 = \"https://raw.githubusercontent.com/yorktruewang/data-bootcamp/master/Final%20Project/Commodity%20Futures%20Volumes.csv\"\n",
    "# Reading in our monthy futures trading volume historical data\n",
    "\n",
    "f_v = pd.read_csv(url2)\n",
    "\n",
    "f_v.head()\n",
    "# Checking to see if the starting month is January 2005\n",
    "\n",
    "f_v = f_v.rename(columns = {\"Unnamed: 0\": \"Date\"})\n",
    "\n",
    "f_v.tail()\n",
    "# Checking to see if the ending month is December 2016\n",
    "\n",
    "# We need to drop the last 16 rows of our dataframe to match the dates\n",
    "\n",
    "f_v = f_v.drop(f_v.index[144:])\n",
    "# We should have the same number of rows, so we can use 144 as well\n",
    "\n",
    "f_v = f_v.drop(axis = 1, columns = \"PULP\")\n",
    "# Dropping \"PULP\" because its data ends somewhere within the time span.\n",
    "\n",
    "f_v.tail()\n",
    "# Checking to see our time span matches"
   ]
  },
  {
   "cell_type": "code",
   "execution_count": 5,
   "metadata": {},
   "outputs": [],
   "source": [
    "# Manually adding trading volumes to the centralized dataframe\n",
    "\n",
    "coffee = f_v[\"COFFEE\"]\n",
    "df[\"coffee\"] = coffee\n",
    "\n",
    "sugar = f_v[\"SUGAR\"]\n",
    "df[\"sugar\"] = sugar\n",
    "\n",
    "cotton = f_v[\"COTTON\"]\n",
    "df[\"cotton\"] = cotton\n",
    "\n",
    "fcoj = f_v[\"FCOJ\"]\n",
    "df[\"fcoj\"] = fcoj\n",
    "\n",
    "cocoa = f_v[\"COCOA\"]\n",
    "df[\"cocoa\"] = cocoa\n",
    "\n",
    "mg = f_v[\"METALS & GRAINS\"]\n",
    "df[\"grains proxy\"] = mg"
   ]
  },
  {
   "cell_type": "markdown",
   "metadata": {},
   "source": [
    "### Importing and Cleaning Global Monthly Prices for Select Commodities\n",
    "\n",
    "The commodities we've chosen are sugar, cocoa, cotton, and grains. We are limited in the number of commodities due to a lack of publicly-available monthly data on futures trading volumes and a lack of global monthly price data on other commodities (coffee, frozen concentrated orange juice).\n",
    "\n",
    "Here, we pull the data from the IMF. Because it is all organized in the same way, we can write a function to quickly clean the data for us.\n",
    "\n",
    "In addition, I've created individual DataFrames for each commodity so that the main DataFrame is not too populated."
   ]
  },
  {
   "cell_type": "code",
   "execution_count": 6,
   "metadata": {},
   "outputs": [],
   "source": [
    "# Our global price indices are all from the IMF, and thus have the same file structure\n",
    "# Let's automate the process of cleaning the data\n",
    "\n",
    "WHEAT =\"https://raw.githubusercontent.com/yorktruewang/data-bootcamp/master/Final%20Project/WHEAT%20INDEX.csv\"\n",
    "COCOA = \"https://raw.githubusercontent.com/yorktruewang/data-bootcamp/master/Final%20Project/COCOA%20INDEX.csv\"\n",
    "SUGAR = \"https://raw.githubusercontent.com/yorktruewang/data-bootcamp/master/Final%20Project/SUGAR%20INDEX.csv\"\n",
    "COTTON = \"https://raw.githubusercontent.com/yorktruewang/data-bootcamp/master/Final%20Project/COTTON%20INDEX.csv\"\n",
    "\n",
    "def clean(url, name):\n",
    "    placeholder = pd.read_csv(url)\n",
    "    # Import data\n",
    "    \n",
    "    placeholder.columns = [\"Date\", name]\n",
    "    # Rename columns\n",
    "    \n",
    "    placeholder = placeholder.drop(placeholder.index[0:300])\n",
    "    # Strip data before our range\n",
    "    \n",
    "    placeholder = placeholder.drop(placeholder.index[144:449])\n",
    "    # Strip data after our range\n",
    "    \n",
    "    placeholder = placeholder.reset_index()\n",
    "    # Reset the index so we can add the values to df\n",
    "    \n",
    "    placeholder = placeholder.drop(\"index\", axis = 1)\n",
    "    # Drop the old index\n",
    "    \n",
    "    df[name] = placeholder[name]\n",
    "    # Place into df\n",
    "\n",
    "# Manually clean the price indices\n",
    "clean(SUGAR, \"sugar index\")\n",
    "clean(COTTON, \"cotton index\")\n",
    "clean(COCOA, \"cocoa index\")\n",
    "\n",
    "# Manually create new dataframes for each commodity\n",
    "sugardf = pd.DataFrame({\"sugar\":df[\"sugar\"], \"sugar index\": df[\"sugar index\"]})\n",
    "cottondf = pd.DataFrame({\"cotton\":df[\"cotton\"], \"cotton index\": df[\"cotton index\"]})\n",
    "cocoadf = pd.DataFrame({\"cocoa\":df[\"cocoa\"], \"cocoa index\": df[\"cocoa index\"]})\n"
   ]
  },
  {
   "cell_type": "markdown",
   "metadata": {},
   "source": [
    "Here we continue cleaning the data. This next section of code comprises of a function written to calculate the percentage change in commodity prices or futures trading volume from the previous month.\n",
    "\n",
    "The other function written here is one that creates a column of \"lagging\" data in the DataFrame. In the case that markets aren't truly efficient, we take into consideration the possibility of futures contracts being bought one month after the commodity prices have begun to rise."
   ]
  },
  {
   "cell_type": "code",
   "execution_count": 7,
   "metadata": {},
   "outputs": [
    {
     "data": {
      "text/html": [
       "<div>\n",
       "<style scoped>\n",
       "    .dataframe tbody tr th:only-of-type {\n",
       "        vertical-align: middle;\n",
       "    }\n",
       "\n",
       "    .dataframe tbody tr th {\n",
       "        vertical-align: top;\n",
       "    }\n",
       "\n",
       "    .dataframe thead th {\n",
       "        text-align: right;\n",
       "    }\n",
       "</style>\n",
       "<table border=\"1\" class=\"dataframe\">\n",
       "  <thead>\n",
       "    <tr style=\"text-align: right;\">\n",
       "      <th></th>\n",
       "      <th>cotton</th>\n",
       "      <th>cotton index</th>\n",
       "      <th>futures</th>\n",
       "      <th>price</th>\n",
       "      <th>lagging_futures</th>\n",
       "      <th>lagging_price</th>\n",
       "    </tr>\n",
       "  </thead>\n",
       "  <tbody>\n",
       "    <tr>\n",
       "      <th>0</th>\n",
       "      <td>356817</td>\n",
       "      <td>51.260526</td>\n",
       "      <td>0.000000</td>\n",
       "      <td>0.000000</td>\n",
       "      <td>0.000000</td>\n",
       "      <td>0.000000</td>\n",
       "    </tr>\n",
       "    <tr>\n",
       "      <th>1</th>\n",
       "      <td>407277</td>\n",
       "      <td>52.165000</td>\n",
       "      <td>0.141417</td>\n",
       "      <td>0.017645</td>\n",
       "      <td>0.000000</td>\n",
       "      <td>0.000000</td>\n",
       "    </tr>\n",
       "    <tr>\n",
       "      <th>2</th>\n",
       "      <td>317486</td>\n",
       "      <td>56.235714</td>\n",
       "      <td>-0.220467</td>\n",
       "      <td>0.078035</td>\n",
       "      <td>0.141417</td>\n",
       "      <td>0.017645</td>\n",
       "    </tr>\n",
       "    <tr>\n",
       "      <th>3</th>\n",
       "      <td>465210</td>\n",
       "      <td>56.954762</td>\n",
       "      <td>0.465293</td>\n",
       "      <td>0.012786</td>\n",
       "      <td>-0.220467</td>\n",
       "      <td>0.078035</td>\n",
       "    </tr>\n",
       "    <tr>\n",
       "      <th>4</th>\n",
       "      <td>306971</td>\n",
       "      <td>55.840000</td>\n",
       "      <td>-0.340145</td>\n",
       "      <td>-0.019573</td>\n",
       "      <td>0.465293</td>\n",
       "      <td>0.012786</td>\n",
       "    </tr>\n",
       "  </tbody>\n",
       "</table>\n",
       "</div>"
      ],
      "text/plain": [
       "   cotton  cotton index   futures     price  lagging_futures  lagging_price\n",
       "0  356817     51.260526  0.000000  0.000000         0.000000       0.000000\n",
       "1  407277     52.165000  0.141417  0.017645         0.000000       0.000000\n",
       "2  317486     56.235714 -0.220467  0.078035         0.141417       0.017645\n",
       "3  465210     56.954762  0.465293  0.012786        -0.220467       0.078035\n",
       "4  306971     55.840000 -0.340145 -0.019573         0.465293       0.012786"
      ]
     },
     "execution_count": 7,
     "metadata": {},
     "output_type": "execute_result"
    }
   ],
   "source": [
    "def percentage_calc(table, column, security):\n",
    "\n",
    "    futures_change = [0]\n",
    "\n",
    "    for x in range(143):\n",
    "        y = x + 1\n",
    "        value = (table.iloc[y][column]/table.iloc[x][column])-1\n",
    "        futures_change.append(value)\n",
    "\n",
    "    table[security] = futures_change\n",
    "\n",
    "percentage_calc(sugardf, \"sugar\", \"futures\")\n",
    "percentage_calc(cottondf, \"cotton\", \"futures\")\n",
    "percentage_calc(cocoadf, \"cocoa\", \"futures\")\n",
    "\n",
    "percentage_calc(sugardf, \"sugar index\", \"price\")\n",
    "percentage_calc(cottondf, \"cotton index\", \"price\")\n",
    "percentage_calc(cocoadf, \"cocoa index\", \"price\")\n",
    "\n",
    "def lagging_calc(table, column, security):\n",
    "\n",
    "    futures_change = [0,0]\n",
    "\n",
    "    for x in range(142):\n",
    "        y = x + 1\n",
    "        value = (table.iloc[y][column]/table.iloc[x][column])-1\n",
    "        futures_change.append(value)\n",
    "\n",
    "    table[security] = futures_change\n",
    "    \n",
    "lagging_calc(sugardf, \"sugar\", \"lagging_futures\")\n",
    "lagging_calc(cottondf, \"cotton\", \"lagging_futures\")\n",
    "lagging_calc(cocoadf, \"cocoa\", \"lagging_futures\")\n",
    "\n",
    "lagging_calc(sugardf, \"sugar index\", \"lagging_price\")\n",
    "lagging_calc(cottondf, \"cotton index\", \"lagging_price\")\n",
    "lagging_calc(cocoadf, \"cocoa index\", \"lagging_price\")\n",
    "\n",
    "cottondf.head()"
   ]
  },
  {
   "cell_type": "markdown",
   "metadata": {},
   "source": [
    "## II. Identifying Possible Correlations between Prices and Futures Trading Volume"
   ]
  },
  {
   "cell_type": "markdown",
   "metadata": {},
   "source": [
    "### i. Sugar\n"
   ]
  },
  {
   "cell_type": "code",
   "execution_count": 8,
   "metadata": {},
   "outputs": [
    {
     "data": {
      "image/png": "[encoded data removed]",
      "text/plain": [
       "<matplotlib.figure.Figure at 0x1062d0668>"
      ]
     },
     "metadata": {},
     "output_type": "display_data"
    }
   ],
   "source": [
    "fig, (ax1, ax2) = plt.subplots(1, 2, sharey = True, figsize = (12,5))\n",
    "\n",
    "fig.suptitle(\"Movements in Sugar's Price and Futures Trading Volume\")\n",
    "\n",
    "\n",
    "ax1.scatter(sugardf[\"futures\"], sugardf[\"price\"])\n",
    "\n",
    "ax1.set_xlabel('Futures Volume % Movement')\n",
    "ax1.set_ylabel('Price % Movement')\n",
    "ax1.set_ylim(-0.2,0.3)\n",
    "\n",
    "ax2.scatter(sugardf[\"lagging_futures\"], sugardf[\"price\"])\n",
    "\n",
    "ax2.set_xlabel('1-Month Lagging Futures Volume % Movement')\n",
    "ax2.set_ylabel('Price % Movement')\n",
    "\n",
    "plt.show()"
   ]
  },
  {
   "cell_type": "markdown",
   "metadata": {},
   "source": [
    "This scatter plot of movements in price do not seem to correlate very well against the movements in futures trading volumes. There is little discernable correlation, so we run a simple linear regression on both scenarios."
   ]
  },
  {
   "cell_type": "markdown",
   "metadata": {},
   "source": [
    "##### Regression of Price Movements on Futures Trading Volume Movements"
   ]
  },
  {
   "cell_type": "code",
   "execution_count": 14,
   "metadata": {},
   "outputs": [
    {
     "name": "stdout",
     "output_type": "stream",
     "text": [
      "                            OLS Regression Results                            \n",
      "==============================================================================\n",
      "Dep. Variable:                  price   R-squared:                       0.011\n",
      "Model:                            OLS   Adj. R-squared:                  0.004\n",
      "Method:                 Least Squares   F-statistic:                     1.634\n",
      "Date:                Mon, 14 May 2018   Prob (F-statistic):              0.203\n",
      "Time:                        17:25:27   Log-Likelihood:                 163.15\n",
      "No. Observations:                 144   AIC:                            -322.3\n",
      "Df Residuals:                     142   BIC:                            -316.4\n",
      "Df Model:                           1                                         \n",
      "Covariance Type:            nonrobust                                         \n",
      "==============================================================================\n",
      "                 coef    std err          t      P>|t|      [0.025      0.975]\n",
      "------------------------------------------------------------------------------\n",
      "Intercept      0.0065      0.007      0.970      0.334      -0.007       0.020\n",
      "futures        0.0193      0.015      1.278      0.203      -0.011       0.049\n",
      "==============================================================================\n",
      "Omnibus:                        4.234   Durbin-Watson:                   1.378\n",
      "Prob(Omnibus):                  0.120   Jarque-Bera (JB):                3.874\n",
      "Skew:                           0.396   Prob(JB):                        0.144\n",
      "Kurtosis:                       3.130   Cond. No.                         2.33\n",
      "==============================================================================\n",
      "\n",
      "Warnings:\n",
      "[1] Standard Errors assume that the covariance matrix of the errors is correctly specified.\n"
     ]
    }
   ],
   "source": [
    "mod = sm.ols('price ~ futures', data=sugardf)\n",
    "res = mod.fit()\n",
    "print(res.summary())"
   ]
  },
  {
   "cell_type": "markdown",
   "metadata": {},
   "source": [
    "##### Regression of Price Movements on 1-Month Lagging Futures Trading Volume Movements"
   ]
  },
  {
   "cell_type": "code",
   "execution_count": 16,
   "metadata": {},
   "outputs": [
    {
     "name": "stdout",
     "output_type": "stream",
     "text": [
      "                            OLS Regression Results                            \n",
      "==============================================================================\n",
      "Dep. Variable:                futures   R-squared:                       0.024\n",
      "Model:                            OLS   Adj. R-squared:                  0.017\n",
      "Method:                 Least Squares   F-statistic:                     3.463\n",
      "Date:                Mon, 14 May 2018   Prob (F-statistic):             0.0648\n",
      "Time:                        17:25:58   Log-Likelihood:                -82.244\n",
      "No. Observations:                 144   AIC:                             168.5\n",
      "Df Residuals:                     142   BIC:                             174.4\n",
      "Df Model:                           1                                         \n",
      "Covariance Type:            nonrobust                                         \n",
      "=================================================================================\n",
      "                    coef    std err          t      P>|t|      [0.025      0.975]\n",
      "---------------------------------------------------------------------------------\n",
      "Intercept         0.0975      0.036      2.695      0.008       0.026       0.169\n",
      "lagging_price    -0.8590      0.462     -1.861      0.065      -1.771       0.053\n",
      "==============================================================================\n",
      "Omnibus:                        7.746   Durbin-Watson:                   2.881\n",
      "Prob(Omnibus):                  0.021   Jarque-Bera (JB):                6.908\n",
      "Skew:                           0.462   Prob(JB):                       0.0316\n",
      "Kurtosis:                       2.454   Cond. No.                         12.8\n",
      "==============================================================================\n",
      "\n",
      "Warnings:\n",
      "[1] Standard Errors assume that the covariance matrix of the errors is correctly specified.\n"
     ]
    }
   ],
   "source": [
    "mod = sm.ols('futures ~ lagging_price', data=sugardf)\n",
    "res = mod.fit()\n",
    "print(res.summary())"
   ]
  },
  {
   "cell_type": "markdown",
   "metadata": {},
   "source": []
  },
  {
   "cell_type": "markdown",
   "metadata": {},
   "source": [
    "### ii. Cocoa"
   ]
  },
  {
   "cell_type": "code",
   "execution_count": 17,
   "metadata": {},
   "outputs": [
    {
     "data": {
      "image/png": "[encoded data removed]",
      "text/plain": [
       "<matplotlib.figure.Figure at 0x11224d940>"
      ]
     },
     "metadata": {},
     "output_type": "display_data"
    }
   ],
   "source": [
    "fig, (ax1, ax2) = plt.subplots(1, 2, sharey = True, figsize = (12,5))\n",
    "\n",
    "fig.suptitle(\"Movements in Cocoa's Price and Futures Trading Volume\")\n",
    "\n",
    "\n",
    "ax1.scatter(cocoadf[\"futures\"], cocoadf[\"price\"])\n",
    "\n",
    "ax1.set_xlabel('Futures Volume % Movement')\n",
    "ax1.set_ylabel('Price % Movement')\n",
    "ax1.set_ylim(-0.2,0.3)\n",
    "\n",
    "ax2.scatter(cocoadf[\"lagging_futures\"], cocoadf[\"price\"])\n",
    "\n",
    "ax2.set_xlabel('1-Month Lagging Futures Volume % Movement')\n",
    "ax2.set_ylabel('Price % Movement')\n",
    "\n",
    "plt.show()"
   ]
  },
  {
   "cell_type": "markdown",
   "metadata": {},
   "source": [
    "This scatter plot of movements in price do not seem to correlate very well against the movements in futures trading volumes. There is little discernable correlation, so we run a simple linear regression on both scenarios."
   ]
  },
  {
   "cell_type": "markdown",
   "metadata": {},
   "source": [
    "##### Regression of Price Movements on Futures Trading Volume Movements"
   ]
  },
  {
   "cell_type": "code",
   "execution_count": 18,
   "metadata": {},
   "outputs": [
    {
     "name": "stdout",
     "output_type": "stream",
     "text": [
      "                            OLS Regression Results                            \n",
      "==============================================================================\n",
      "Dep. Variable:                  price   R-squared:                       0.002\n",
      "Model:                            OLS   Adj. R-squared:                 -0.005\n",
      "Method:                 Least Squares   F-statistic:                    0.3419\n",
      "Date:                Mon, 14 May 2018   Prob (F-statistic):              0.560\n",
      "Time:                        17:28:01   Log-Likelihood:                 218.49\n",
      "No. Observations:                 144   AIC:                            -433.0\n",
      "Df Residuals:                     142   BIC:                            -427.0\n",
      "Df Model:                           1                                         \n",
      "Covariance Type:            nonrobust                                         \n",
      "==============================================================================\n",
      "                 coef    std err          t      P>|t|      [0.025      0.975]\n",
      "------------------------------------------------------------------------------\n",
      "Intercept      0.0046      0.005      1.025      0.307      -0.004       0.014\n",
      "futures       -0.0073      0.013     -0.585      0.560      -0.032       0.017\n",
      "==============================================================================\n",
      "Omnibus:                        2.463   Durbin-Watson:                   1.470\n",
      "Prob(Omnibus):                  0.292   Jarque-Bera (JB):                2.346\n",
      "Skew:                          -0.042   Prob(JB):                        0.309\n",
      "Kurtosis:                       3.620   Cond. No.                         2.83\n",
      "==============================================================================\n",
      "\n",
      "Warnings:\n",
      "[1] Standard Errors assume that the covariance matrix of the errors is correctly specified.\n"
     ]
    }
   ],
   "source": [
    "mod = sm.ols('price ~ futures', data=cocoadf)\n",
    "res = mod.fit()\n",
    "print(res.summary())"
   ]
  },
  {
   "cell_type": "markdown",
   "metadata": {},
   "source": [
    "##### Regression of Price Movements on 1-Month Lagging Futures Trading Volume Movements"
   ]
  },
  {
   "cell_type": "code",
   "execution_count": 16,
   "metadata": {
    "scrolled": false
   },
   "outputs": [
    {
     "name": "stdout",
     "output_type": "stream",
     "text": [
      "                            OLS Regression Results                            \n",
      "==============================================================================\n",
      "Dep. Variable:                futures   R-squared:                       0.024\n",
      "Model:                            OLS   Adj. R-squared:                  0.017\n",
      "Method:                 Least Squares   F-statistic:                     3.463\n",
      "Date:                Mon, 14 May 2018   Prob (F-statistic):             0.0648\n",
      "Time:                        17:25:58   Log-Likelihood:                -82.244\n",
      "No. Observations:                 144   AIC:                             168.5\n",
      "Df Residuals:                     142   BIC:                             174.4\n",
      "Df Model:                           1                                         \n",
      "Covariance Type:            nonrobust                                         \n",
      "=================================================================================\n",
      "                    coef    std err          t      P>|t|      [0.025      0.975]\n",
      "---------------------------------------------------------------------------------\n",
      "Intercept         0.0975      0.036      2.695      0.008       0.026       0.169\n",
      "lagging_price    -0.8590      0.462     -1.861      0.065      -1.771       0.053\n",
      "==============================================================================\n",
      "Omnibus:                        7.746   Durbin-Watson:                   2.881\n",
      "Prob(Omnibus):                  0.021   Jarque-Bera (JB):                6.908\n",
      "Skew:                           0.462   Prob(JB):                       0.0316\n",
      "Kurtosis:                       2.454   Cond. No.                         12.8\n",
      "==============================================================================\n",
      "\n",
      "Warnings:\n",
      "[1] Standard Errors assume that the covariance matrix of the errors is correctly specified.\n"
     ]
    }
   ],
   "source": [
    "mod = sm.ols('futures ~ lagging_price', data=cocoadf)\n",
    "res = mod.fit()\n",
    "print(res.summary())"
   ]
  },
  {
   "cell_type": "markdown",
   "metadata": {},
   "source": [
    "asdadf"
   ]
  },
  {
   "cell_type": "markdown",
   "metadata": {},
   "source": [
    "### iii. Cotton"
   ]
  },
  {
   "cell_type": "code",
   "execution_count": 19,
   "metadata": {},
   "outputs": [
    {
     "data": {
      "image/png": "[encoded data removed]",
      "text/plain": [
       "<matplotlib.figure.Figure at 0x1a17484668>"
      ]
     },
     "metadata": {},
     "output_type": "display_data"
    }
   ],
   "source": [
    "fig, (ax1, ax2) = plt.subplots(1, 2, sharey = True, figsize = (12,5))\n",
    "\n",
    "fig.suptitle(\"Movements in Cotton's Price and Futures Trading Volume\")\n",
    "\n",
    "\n",
    "ax1.scatter(cottondf[\"futures\"], cottondf[\"price\"])\n",
    "\n",
    "ax1.set_xlabel('Futures Volume % Movement')\n",
    "ax1.set_ylabel('Price % Movement')\n",
    "ax1.set_ylim(-0.2,0.3)\n",
    "\n",
    "ax2.scatter(cottondf[\"lagging_futures\"], cottondf[\"price\"])\n",
    "\n",
    "ax2.set_xlabel('1-Month Lagging Futures Volume % Movement')\n",
    "ax2.set_ylabel('Price % Movement')\n",
    "\n",
    "plt.show()"
   ]
  },
  {
   "cell_type": "markdown",
   "metadata": {},
   "source": [
    "This scatter plot of movements in price do not seem to correlate very well against the movements in futures trading volumes. There is little discernable correlation, so we run a simple linear regression on both scenarios."
   ]
  },
  {
   "cell_type": "markdown",
   "metadata": {},
   "source": [
    "##### Regression of Price Movements on Futures Trading Volume Movements"
   ]
  },
  {
   "cell_type": "code",
   "execution_count": 20,
   "metadata": {},
   "outputs": [
    {
     "name": "stdout",
     "output_type": "stream",
     "text": [
      "                            OLS Regression Results                            \n",
      "==============================================================================\n",
      "Dep. Variable:                  price   R-squared:                       0.021\n",
      "Model:                            OLS   Adj. R-squared:                  0.014\n",
      "Method:                 Least Squares   F-statistic:                     3.041\n",
      "Date:                Mon, 14 May 2018   Prob (F-statistic):             0.0834\n",
      "Time:                        17:29:32   Log-Likelihood:                 196.93\n",
      "No. Observations:                 144   AIC:                            -389.9\n",
      "Df Residuals:                     142   BIC:                            -383.9\n",
      "Df Model:                           1                                         \n",
      "Covariance Type:            nonrobust                                         \n",
      "==============================================================================\n",
      "                 coef    std err          t      P>|t|      [0.025      0.975]\n",
      "------------------------------------------------------------------------------\n",
      "Intercept      0.0029      0.005      0.550      0.583      -0.008       0.013\n",
      "futures        0.0199      0.011      1.744      0.083      -0.003       0.042\n",
      "==============================================================================\n",
      "Omnibus:                       17.955   Durbin-Watson:                   1.138\n",
      "Prob(Omnibus):                  0.000   Jarque-Bera (JB):               75.716\n",
      "Skew:                          -0.084   Prob(JB):                     3.62e-17\n",
      "Kurtosis:                       6.548   Cond. No.                         2.23\n",
      "==============================================================================\n",
      "\n",
      "Warnings:\n",
      "[1] Standard Errors assume that the covariance matrix of the errors is correctly specified.\n"
     ]
    }
   ],
   "source": [
    "mod = sm.ols('price ~ futures', data=cottondf)\n",
    "res = mod.fit()\n",
    "print(res.summary())"
   ]
  },
  {
   "cell_type": "markdown",
   "metadata": {},
   "source": [
    "##### Regression of Price Movements on 1-Month Lagging Futures Trading Volume Movements"
   ]
  },
  {
   "cell_type": "code",
   "execution_count": 21,
   "metadata": {
    "scrolled": false
   },
   "outputs": [
    {
     "name": "stdout",
     "output_type": "stream",
     "text": [
      "                            OLS Regression Results                            \n",
      "==============================================================================\n",
      "Dep. Variable:                futures   R-squared:                       0.001\n",
      "Model:                            OLS   Adj. R-squared:                 -0.006\n",
      "Method:                 Least Squares   F-statistic:                    0.1709\n",
      "Date:                Mon, 14 May 2018   Prob (F-statistic):              0.680\n",
      "Time:                        17:29:40   Log-Likelihood:                -90.653\n",
      "No. Observations:                 144   AIC:                             185.3\n",
      "Df Residuals:                     142   BIC:                             191.2\n",
      "Df Model:                           1                                         \n",
      "Covariance Type:            nonrobust                                         \n",
      "=================================================================================\n",
      "                    coef    std err          t      P>|t|      [0.025      0.975]\n",
      "---------------------------------------------------------------------------------\n",
      "Intercept         0.1069      0.038      2.796      0.006       0.031       0.182\n",
      "lagging_price    -0.2529      0.612     -0.413      0.680      -1.462       0.956\n",
      "==============================================================================\n",
      "Omnibus:                       21.403   Durbin-Watson:                   3.086\n",
      "Prob(Omnibus):                  0.000   Jarque-Bera (JB):                5.988\n",
      "Skew:                           0.077   Prob(JB):                       0.0501\n",
      "Kurtosis:                       2.013   Cond. No.                         16.1\n",
      "==============================================================================\n",
      "\n",
      "Warnings:\n",
      "[1] Standard Errors assume that the covariance matrix of the errors is correctly specified.\n"
     ]
    }
   ],
   "source": [
    "mod = sm.ols('futures ~ lagging_price', data=cottondf)\n",
    "res = mod.fit()\n",
    "print(res.summary())"
   ]
  },
  {
   "cell_type": "code",
   "execution_count": null,
   "metadata": {},
   "outputs": [],
   "source": []
  }
 ],
 "metadata": {
  "kernelspec": {
   "display_name": "Python 3",
   "language": "python",
   "name": "python3"
  },
  "language_info": {
   "codemirror_mode": {
    "name": "ipython",
    "version": 3
   },
   "file_extension": ".py",
   "mimetype": "text/x-python",
   "name": "python",
   "nbconvert_exporter": "python",
   "pygments_lexer": "ipython3",
   "version": "3.6.4"
  }
 },
 "nbformat": 4,
 "nbformat_minor": 2
}
